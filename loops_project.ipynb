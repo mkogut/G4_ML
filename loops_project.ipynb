{
  "nbformat": 4,
  "nbformat_minor": 0,
  "metadata": {
    "colab": {
      "name": "loops_project.ipynb",
      "provenance": [],
      "collapsed_sections": [],
      "include_colab_link": true
    },
    "kernelspec": {
      "name": "python3",
      "display_name": "Python 3"
    },
    "language_info": {
      "name": "python"
    }
  },
  "cells": [
    {
      "cell_type": "markdown",
      "metadata": {
        "id": "view-in-github",
        "colab_type": "text"
      },
      "source": [
        "<a href=\"https://colab.research.google.com/github/mkogut/G4_ML/blob/main/loops_project.ipynb\" target=\"_parent\"><img src=\"https://colab.research.google.com/assets/colab-badge.svg\" alt=\"Open In Colab\"/></a>"
      ]
    },
    {
      "cell_type": "code",
      "metadata": {
        "id": "KD0Jbmoj27We"
      },
      "source": [
        "import numpy as np\n",
        "import pandas as pd\n",
        "from pathlib import Path"
      ],
      "execution_count": null,
      "outputs": []
    },
    {
      "cell_type": "code",
      "metadata": {
        "id": "2Fge4ja0eydU"
      },
      "source": [
        "!rm -r /content/g4-loops/"
      ],
      "execution_count": null,
      "outputs": []
    },
    {
      "cell_type": "code",
      "metadata": {
        "id": "Ny8Iw3e1XSDE",
        "colab": {
          "base_uri": "https://localhost:8080/"
        },
        "outputId": "23d587e1-f943-4129-8f86-8521e05dff57"
      },
      "source": [
        "!git clone https://gitlab.com/mateusz.kogut.mk/g4-loops.git"
      ],
      "execution_count": null,
      "outputs": [
        {
          "output_type": "stream",
          "text": [
            "Cloning into 'g4-loops'...\n",
            "remote: Enumerating objects: 1866, done.\u001b[K\n",
            "remote: Counting objects: 100% (1866/1866), done.\u001b[K\n",
            "remote: Compressing objects: 100% (1556/1556), done.\u001b[K\n",
            "remote: Total 1866 (delta 309), reused 1863 (delta 309), pack-reused 0\u001b[K\n",
            "Receiving objects: 100% (1866/1866), 24.10 MiB | 17.81 MiB/s, done.\n",
            "Resolving deltas: 100% (309/309), done.\n"
          ],
          "name": "stdout"
        }
      ]
    },
    {
      "cell_type": "markdown",
      "metadata": {
        "id": "EXLeyTSkGBpQ"
      },
      "source": [
        ""
      ]
    },
    {
      "cell_type": "code",
      "metadata": {
        "id": "AERmD19H3kQi",
        "colab": {
          "base_uri": "https://localhost:8080/",
          "height": 419
        },
        "outputId": "0556f0a3-1957-48d3-c523-4f71c2e81637"
      },
      "source": [
        "loops_df = pd.read_csv(\"/content/g4-loops/loops_df.csv\", index_col=0)\n",
        "loops_df"
      ],
      "execution_count": null,
      "outputs": [
        {
          "output_type": "execute_result",
          "data": {
            "text/html": [
              "<div>\n",
              "<style scoped>\n",
              "    .dataframe tbody tr th:only-of-type {\n",
              "        vertical-align: middle;\n",
              "    }\n",
              "\n",
              "    .dataframe tbody tr th {\n",
              "        vertical-align: top;\n",
              "    }\n",
              "\n",
              "    .dataframe thead th {\n",
              "        text-align: right;\n",
              "    }\n",
              "</style>\n",
              "<table border=\"1\" class=\"dataframe\">\n",
              "  <thead>\n",
              "    <tr style=\"text-align: right;\">\n",
              "      <th></th>\n",
              "      <th>pdb</th>\n",
              "      <th>position</th>\n",
              "      <th>type</th>\n",
              "      <th>strand_beg</th>\n",
              "      <th>strand_end</th>\n",
              "      <th>length</th>\n",
              "      <th>sequence</th>\n",
              "      <th>residues</th>\n",
              "    </tr>\n",
              "  </thead>\n",
              "  <tbody>\n",
              "    <tr>\n",
              "      <th>0</th>\n",
              "      <td>143d_sep0.pdb</td>\n",
              "      <td>1</td>\n",
              "      <td>lateral</td>\n",
              "      <td>1</td>\n",
              "      <td>2</td>\n",
              "      <td>3</td>\n",
              "      <td>TTA</td>\n",
              "      <td>A.DT5,A.DT6,A.DA7</td>\n",
              "    </tr>\n",
              "    <tr>\n",
              "      <th>1</th>\n",
              "      <td>143d_sep0.pdb</td>\n",
              "      <td>2</td>\n",
              "      <td>diagonal</td>\n",
              "      <td>2</td>\n",
              "      <td>4</td>\n",
              "      <td>3</td>\n",
              "      <td>TTA</td>\n",
              "      <td>A.DT11,A.DT12,A.DA13</td>\n",
              "    </tr>\n",
              "    <tr>\n",
              "      <th>2</th>\n",
              "      <td>143d_sep0.pdb</td>\n",
              "      <td>3</td>\n",
              "      <td>lateral</td>\n",
              "      <td>4</td>\n",
              "      <td>3</td>\n",
              "      <td>3</td>\n",
              "      <td>TTA</td>\n",
              "      <td>A.DT17,A.DT18,A.DA19</td>\n",
              "    </tr>\n",
              "    <tr>\n",
              "      <th>3</th>\n",
              "      <td>143d_sep1.pdb</td>\n",
              "      <td>1</td>\n",
              "      <td>lateral</td>\n",
              "      <td>1</td>\n",
              "      <td>2</td>\n",
              "      <td>3</td>\n",
              "      <td>TTA</td>\n",
              "      <td>A.DT5,A.DT6,A.DA7</td>\n",
              "    </tr>\n",
              "    <tr>\n",
              "      <th>4</th>\n",
              "      <td>143d_sep1.pdb</td>\n",
              "      <td>2</td>\n",
              "      <td>diagonal</td>\n",
              "      <td>2</td>\n",
              "      <td>4</td>\n",
              "      <td>3</td>\n",
              "      <td>TTA</td>\n",
              "      <td>A.DT11,A.DT12,A.DA13</td>\n",
              "    </tr>\n",
              "    <tr>\n",
              "      <th>...</th>\n",
              "      <td>...</td>\n",
              "      <td>...</td>\n",
              "      <td>...</td>\n",
              "      <td>...</td>\n",
              "      <td>...</td>\n",
              "      <td>...</td>\n",
              "      <td>...</td>\n",
              "      <td>...</td>\n",
              "    </tr>\n",
              "    <tr>\n",
              "      <th>5855</th>\n",
              "      <td>7cv4_sep8.pdb</td>\n",
              "      <td>2</td>\n",
              "      <td>lateral</td>\n",
              "      <td>4</td>\n",
              "      <td>3</td>\n",
              "      <td>10</td>\n",
              "      <td>CGCGCCAGCG</td>\n",
              "      <td>A.DC8,A.DG9,A.DC10,A.DG11,A.DC12,A.DC13,A.DA14...</td>\n",
              "    </tr>\n",
              "    <tr>\n",
              "      <th>5856</th>\n",
              "      <td>7cv4_sep8.pdb</td>\n",
              "      <td>3</td>\n",
              "      <td>lateral</td>\n",
              "      <td>3</td>\n",
              "      <td>2</td>\n",
              "      <td>4</td>\n",
              "      <td>GTCG</td>\n",
              "      <td>A.DG20,A.DT21,A.DC22,A.DG23</td>\n",
              "    </tr>\n",
              "    <tr>\n",
              "      <th>5857</th>\n",
              "      <td>7cv4_sep9.pdb</td>\n",
              "      <td>1</td>\n",
              "      <td>lateral</td>\n",
              "      <td>1</td>\n",
              "      <td>4</td>\n",
              "      <td>2</td>\n",
              "      <td>AG</td>\n",
              "      <td>A.DA4,A.DG5</td>\n",
              "    </tr>\n",
              "    <tr>\n",
              "      <th>5858</th>\n",
              "      <td>7cv4_sep9.pdb</td>\n",
              "      <td>2</td>\n",
              "      <td>lateral</td>\n",
              "      <td>4</td>\n",
              "      <td>3</td>\n",
              "      <td>10</td>\n",
              "      <td>CGCGCCAGCG</td>\n",
              "      <td>A.DC8,A.DG9,A.DC10,A.DG11,A.DC12,A.DC13,A.DA14...</td>\n",
              "    </tr>\n",
              "    <tr>\n",
              "      <th>5859</th>\n",
              "      <td>7cv4_sep9.pdb</td>\n",
              "      <td>3</td>\n",
              "      <td>lateral</td>\n",
              "      <td>3</td>\n",
              "      <td>2</td>\n",
              "      <td>4</td>\n",
              "      <td>GTCG</td>\n",
              "      <td>A.DG20,A.DT21,A.DC22,A.DG23</td>\n",
              "    </tr>\n",
              "  </tbody>\n",
              "</table>\n",
              "<p>5860 rows × 8 columns</p>\n",
              "</div>"
            ],
            "text/plain": [
              "                pdb  ...                                           residues\n",
              "0     143d_sep0.pdb  ...                                  A.DT5,A.DT6,A.DA7\n",
              "1     143d_sep0.pdb  ...                               A.DT11,A.DT12,A.DA13\n",
              "2     143d_sep0.pdb  ...                               A.DT17,A.DT18,A.DA19\n",
              "3     143d_sep1.pdb  ...                                  A.DT5,A.DT6,A.DA7\n",
              "4     143d_sep1.pdb  ...                               A.DT11,A.DT12,A.DA13\n",
              "...             ...  ...                                                ...\n",
              "5855  7cv4_sep8.pdb  ...  A.DC8,A.DG9,A.DC10,A.DG11,A.DC12,A.DC13,A.DA14...\n",
              "5856  7cv4_sep8.pdb  ...                        A.DG20,A.DT21,A.DC22,A.DG23\n",
              "5857  7cv4_sep9.pdb  ...                                        A.DA4,A.DG5\n",
              "5858  7cv4_sep9.pdb  ...  A.DC8,A.DG9,A.DC10,A.DG11,A.DC12,A.DC13,A.DA14...\n",
              "5859  7cv4_sep9.pdb  ...                        A.DG20,A.DT21,A.DC22,A.DG23\n",
              "\n",
              "[5860 rows x 8 columns]"
            ]
          },
          "metadata": {
            "tags": []
          },
          "execution_count": 4
        }
      ]
    },
    {
      "cell_type": "code",
      "metadata": {
        "id": "sIsk9V3aCWBo"
      },
      "source": [
        "!cp /content/g4-loops/loops_df.csv /content/g4-loops/loops_df2.csv"
      ],
      "execution_count": null,
      "outputs": []
    },
    {
      "cell_type": "markdown",
      "metadata": {
        "id": "zR8F60UGrpkE"
      },
      "source": [
        "Output dla modelu:\n",
        "- Rodzaj pętli (%) propellel, lateral, diagonal lub propellel +/-, lateral +/-, diagonal.\n",
        "\n",
        "Proponowane właściwości inputowe:\n",
        "\n",
        "- położenie pętli od końca 5' (1,2,3)\n",
        "- długość pętli (1-5, >5)\n",
        "- sekwencja pętli (jak?)\n",
        "- odległość pomiędzy ostatnim i pierwszym fosforanem z pętli\n",
        "- szerokość bruzdy (średnia odległość pomiędzy fosforanami, GG też?)\n",
        "- liczba łańcuchów (1,2 i więcej?)\n",
        "- kąty dihedralne jak w DNA alfa, beta, gamma, delta, epsilon, zeta, chi (?), sugar pucker (?)\n",
        "- jakieś kąty pseudodihedralne (zaproponować)\n",
        "- ułożenie zasad azotowych względem siebie (kąt)"
      ]
    }
  ]
}